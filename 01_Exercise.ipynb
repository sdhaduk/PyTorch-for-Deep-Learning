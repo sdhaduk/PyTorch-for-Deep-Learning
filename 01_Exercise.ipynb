{
 "cells": [
  {
   "cell_type": "code",
   "execution_count": 4,
   "id": "beb5c636-b64d-44c0-9ad9-a2a42a158ae6",
   "metadata": {},
   "outputs": [],
   "source": [
    "import torch\n",
    "from torch import nn\n",
    "import matplotlib.pyplot as plt\n",
    "import numpy as np"
   ]
  },
  {
   "cell_type": "markdown",
   "id": "650c3a51-cd3b-4f33-8f67-cb0714f63632",
   "metadata": {},
   "source": [
    "## 01 Exercise"
   ]
  },
  {
   "cell_type": "markdown",
   "id": "11559ec2-4d82-45b0-81c6-d5092783910a",
   "metadata": {},
   "source": [
    "### 1."
   ]
  },
  {
   "cell_type": "code",
   "execution_count": 66,
   "id": "d4cd8cfe-7714-4df0-98d4-bcecf9415b53",
   "metadata": {},
   "outputs": [
    {
     "data": {
      "text/plain": [
       "(tensor([0.2000]),\n",
       " tensor([[0.9000],\n",
       "         [0.9060],\n",
       "         [0.9120],\n",
       "         [0.9180],\n",
       "         [0.9240],\n",
       "         [0.9300],\n",
       "         [0.9360],\n",
       "         [0.9420],\n",
       "         [0.9480],\n",
       "         [0.9540]]))"
      ]
     },
     "execution_count": 66,
     "metadata": {},
     "output_type": "execute_result"
    }
   ],
   "source": [
    "\n",
    "weight = 0.3\n",
    "bias = 0.9\n",
    "\n",
    "X = torch.arange(0, 2, 0.02).unsqueeze(dim=1)\n",
    "y = weight * X + bias\n",
    "X[10], y[:10]"
   ]
  },
  {
   "cell_type": "code",
   "execution_count": 68,
   "id": "7f6ab70d-9c92-4f6f-8b74-c92537faf461",
   "metadata": {},
   "outputs": [
    {
     "data": {
      "text/plain": [
       "(80, 80, 20, 20)"
      ]
     },
     "execution_count": 68,
     "metadata": {},
     "output_type": "execute_result"
    }
   ],
   "source": [
    "X_train, y_train = X[:80], y[:80]\n",
    "X_test, y_test = X[80:], y[80:]\n",
    "len(X_train), len(y_train), len(X_test), len(y_test)"
   ]
  },
  {
   "cell_type": "code",
   "execution_count": 70,
   "id": "08b0a744-ee75-4a39-9cf6-d2166c0e74ea",
   "metadata": {},
   "outputs": [
    {
     "data": {
      "image/png": "[encoded data removed]",
      "text/plain": [
       "<Figure size 1000x700 with 1 Axes>"
      ]
     },
     "metadata": {},
     "output_type": "display_data"
    }
   ],
   "source": [
    "def plot_predictions(train_data, train_labels, test_data, test_labels, predictions=None):\n",
    "    plt.figure(figsize=(10, 7))\n",
    "\n",
    "    plt.scatter(train_data, train_labels, c=\"b\", s=4, label=\"Training Data\")\n",
    "    plt.scatter(test_data, test_labels, c=\"g\", s=4, label=\"Testing Data\")\n",
    "\n",
    "    if predictions != None:\n",
    "        plt.scatter(test_data, predictions, c=\"r\", s=4, label=\"Predictions\")\n",
    "    plt.legend(prop={\"size\": 14})\n",
    "\n",
    "plot_predictions(X_train, y_train, X_test, y_test)"
   ]
  },
  {
   "cell_type": "markdown",
   "id": "97c9e003-d2cd-4efb-9d1e-b1efab68b1a5",
   "metadata": {},
   "source": [
    "## 2."
   ]
  },
  {
   "cell_type": "code",
   "execution_count": 79,
   "id": "a5d8af14-368a-4264-852c-c55d63f3c278",
   "metadata": {},
   "outputs": [],
   "source": [
    "class LinearRegressionModel(nn.Module):\n",
    "    def __init__(self):\n",
    "        super().__init__()\n",
    "        self.weight = nn.Parameter(torch.randn(1, requires_grad=True))\n",
    "        self.bias = nn.Parameter(torch.randn(1, requires_grad=True))\n",
    "    def forward(self, x: torch.Tensor) -> torch.Tensor:\n",
    "        return self.weight * x + self.bias"
   ]
  },
  {
   "cell_type": "code",
   "execution_count": 82,
   "id": "4cbe2cd1-d79a-472c-9f36-14597bd5fffb",
   "metadata": {},
   "outputs": [
    {
     "data": {
      "text/plain": [
       "OrderedDict([('weight', tensor([0.4625])), ('bias', tensor([-0.1692]))])"
      ]
     },
     "execution_count": 82,
     "metadata": {},
     "output_type": "execute_result"
    }
   ],
   "source": [
    "torch.manual_seed(50)\n",
    "model_1 = LinearRegressionModel()\n",
    "model_1.state_dict()"
   ]
  },
  {
   "cell_type": "markdown",
   "id": "09cbc6d8-dcf4-4dd3-adbb-8a375aa714a4",
   "metadata": {},
   "source": [
    "## 3."
   ]
  },
  {
   "cell_type": "code",
   "execution_count": 89,
   "id": "047d0640-48a9-401b-b87a-be8b62602e26",
   "metadata": {},
   "outputs": [],
   "source": [
    "loss_fn = nn.L1Loss()\n",
    "optimizer = torch.optim.SGD(params=model_1.parameters(), lr=0.01)"
   ]
  },
  {
   "cell_type": "code",
   "execution_count": 119,
   "id": "2adca5b5-5f04-4f4e-a09f-28532bcf4d49",
   "metadata": {},
   "outputs": [
    {
     "name": "stdout",
     "output_type": "stream",
     "text": [
      "Epoch: 0 | Training Loss: 0.924608588218689 | Testing Loss: 0.7300763726234436\n",
      "OrderedDict([('weight', tensor([0.4783])), ('bias', tensor([-0.1492]))])\n",
      "Epoch: 20 | Training Loss: 0.5997886061668396 | Testing Loss: 0.24725639820098877\n",
      "OrderedDict([('weight', tensor([0.6363])), ('bias', tensor([0.0508]))])\n",
      "Epoch: 40 | Training Loss: 0.2993209958076477 | Testing Loss: 0.20493872463703156\n",
      "OrderedDict([('weight', tensor([0.7818])), ('bias', tensor([0.2425]))])\n",
      "Epoch: 60 | Training Loss: 0.23311738669872284 | Testing Loss: 0.3528388440608978\n",
      "OrderedDict([('weight', tensor([0.8063])), ('bias', tensor([0.3465]))])\n",
      "Epoch: 80 | Training Loss: 0.20957879722118378 | Testing Loss: 0.3789626955986023\n",
      "OrderedDict([('weight', tensor([0.7852])), ('bias', tensor([0.4105]))])\n",
      "Epoch: 100 | Training Loss: 0.19062913954257965 | Testing Loss: 0.36545297503471375\n",
      "OrderedDict([('weight', tensor([0.7497])), ('bias', tensor([0.4605]))])\n",
      "Epoch: 120 | Training Loss: 0.1723433881998062 | Testing Loss: 0.3381366729736328\n",
      "OrderedDict([('weight', tensor([0.7093])), ('bias', tensor([0.5055]))])\n",
      "Epoch: 140 | Training Loss: 0.15412794053554535 | Testing Loss: 0.3040240406990051\n",
      "OrderedDict([('weight', tensor([0.6665])), ('bias', tensor([0.5480]))])\n",
      "Epoch: 160 | Training Loss: 0.13594265282154083 | Testing Loss: 0.2685520052909851\n",
      "OrderedDict([('weight', tensor([0.6232])), ('bias', tensor([0.5900]))])\n",
      "Epoch: 180 | Training Loss: 0.11775783449411392 | Testing Loss: 0.23240026831626892\n",
      "OrderedDict([('weight', tensor([0.5797])), ('bias', tensor([0.6318]))])\n",
      "Epoch: 200 | Training Loss: 0.09957300126552582 | Testing Loss: 0.19624854624271393\n",
      "OrderedDict([('weight', tensor([0.5362])), ('bias', tensor([0.6735]))])\n",
      "Epoch: 220 | Training Loss: 0.0813882052898407 | Testing Loss: 0.1600969284772873\n",
      "OrderedDict([('weight', tensor([0.4926])), ('bias', tensor([0.7153]))])\n",
      "Epoch: 240 | Training Loss: 0.06320346891880035 | Testing Loss: 0.12394590675830841\n",
      "OrderedDict([('weight', tensor([0.4491])), ('bias', tensor([0.7570]))])\n",
      "Epoch: 260 | Training Loss: 0.04501872509717941 | Testing Loss: 0.08779488503932953\n",
      "OrderedDict([('weight', tensor([0.4056])), ('bias', tensor([0.7988]))])\n",
      "Epoch: 280 | Training Loss: 0.026833489537239075 | Testing Loss: 0.051643818616867065\n",
      "OrderedDict([('weight', tensor([0.3621])), ('bias', tensor([0.8405]))])\n"
     ]
    }
   ],
   "source": [
    "epochs = 300\n",
    "\n",
    "for epoch in range(epochs):\n",
    "    model_1.train()\n",
    "    y_train_pred = model_1(X_train)\n",
    "    train_loss = loss_fn(y_train_pred, y_train)\n",
    "    optimizer.zero_grad()\n",
    "    train_loss.backward()\n",
    "    optimizer.step()\n",
    "\n",
    "    if epoch % 20 == 0:\n",
    "        model_1.eval()\n",
    "        with torch.inference_mode():\n",
    "            y_test_pred = model_1(X_test)\n",
    "            test_loss = loss_fn(y_test_pred, y_test)\n",
    "\n",
    "        print(f\"Epoch: {epoch} | Training Loss: {train_loss} | Testing Loss: {test_loss}\")\n",
    "        print(model_1.state_dict())"
   ]
  },
  {
   "cell_type": "markdown",
   "id": "84760d40-108b-49b7-bf89-75a2153c8606",
   "metadata": {},
   "source": [
    "## 4."
   ]
  },
  {
   "cell_type": "code",
   "execution_count": 134,
   "id": "6427079e-2062-44ce-8b85-d33fd29dcbb8",
   "metadata": {},
   "outputs": [
    {
     "data": {
      "text/plain": [
       "tensor([[1.3936],\n",
       "        [1.4000],\n",
       "        [1.4064],\n",
       "        [1.4128],\n",
       "        [1.4192],\n",
       "        [1.4257],\n",
       "        [1.4321],\n",
       "        [1.4385],\n",
       "        [1.4449],\n",
       "        [1.4513],\n",
       "        [1.4577],\n",
       "        [1.4642],\n",
       "        [1.4706],\n",
       "        [1.4770],\n",
       "        [1.4834],\n",
       "        [1.4898],\n",
       "        [1.4962],\n",
       "        [1.5027],\n",
       "        [1.5091],\n",
       "        [1.5155]])"
      ]
     },
     "execution_count": 134,
     "metadata": {},
     "output_type": "execute_result"
    }
   ],
   "source": [
    "model_1.eval()\n",
    "with torch.inference_mode():\n",
    "    predictions = model_1(X_test)\n",
    "\n",
    "predictions"
   ]
  },
  {
   "cell_type": "code",
   "execution_count": 136,
   "id": "1496c991-6c53-44b8-80c5-fa855c4d45ca",
   "metadata": {},
   "outputs": [
    {
     "data": {
      "image/png": "[encoded data removed]",
      "text/plain": [
       "<Figure size 1000x700 with 1 Axes>"
      ]
     },
     "metadata": {},
     "output_type": "display_data"
    }
   ],
   "source": [
    "plot_predictions(X_train, y_train, X_test, y_test, predictions)"
   ]
  },
  {
   "cell_type": "markdown",
   "id": "2fa96c8c-3d67-4284-8025-113d20f6da58",
   "metadata": {},
   "source": [
    "## 5."
   ]
  },
  {
   "cell_type": "code",
   "execution_count": 141,
   "id": "e6c4027f-c6ca-4c16-86e8-234ba1fc7a9f",
   "metadata": {},
   "outputs": [],
   "source": [
    "torch.save(model_1.state_dict(),\"models/01_pytorch_exercise_model.pt\")"
   ]
  },
  {
   "cell_type": "code",
   "execution_count": 143,
   "id": "cda391c4-fbfc-44d6-b455-36ec2cfba802",
   "metadata": {},
   "outputs": [
    {
     "data": {
      "text/plain": [
       "LinearRegressionModel()"
      ]
     },
     "execution_count": 143,
     "metadata": {},
     "output_type": "execute_result"
    }
   ],
   "source": [
    "load_model = LinearRegressionModel()\n",
    "load_model.load_state_dict(torch.load(\"models/01_pytorch_exercise_model.pt\"))\n",
    "load_model.eval()"
   ]
  },
  {
   "cell_type": "code",
   "execution_count": 145,
   "id": "a45d469d-a879-43fc-8b84-468100ed125d",
   "metadata": {},
   "outputs": [
    {
     "data": {
      "text/plain": [
       "OrderedDict([('weight', tensor([0.3208])), ('bias', tensor([0.8803]))])"
      ]
     },
     "execution_count": 145,
     "metadata": {},
     "output_type": "execute_result"
    }
   ],
   "source": [
    "load_model.state_dict()"
   ]
  },
  {
   "cell_type": "code",
   "execution_count": 147,
   "id": "c4f85fc1-9fd7-4b25-a3f6-08237b69cfd7",
   "metadata": {},
   "outputs": [
    {
     "data": {
      "text/plain": [
       "(tensor([[1.3936],\n",
       "         [1.4000],\n",
       "         [1.4064],\n",
       "         [1.4128],\n",
       "         [1.4192],\n",
       "         [1.4257],\n",
       "         [1.4321],\n",
       "         [1.4385],\n",
       "         [1.4449],\n",
       "         [1.4513]]),\n",
       " tensor([[1.3936],\n",
       "         [1.4000],\n",
       "         [1.4064],\n",
       "         [1.4128],\n",
       "         [1.4192],\n",
       "         [1.4257],\n",
       "         [1.4321],\n",
       "         [1.4385],\n",
       "         [1.4449],\n",
       "         [1.4513]]))"
      ]
     },
     "execution_count": 147,
     "metadata": {},
     "output_type": "execute_result"
    }
   ],
   "source": [
    "with torch.inference_mode():\n",
    "    load_predictions = load_model(X_test)\n",
    "\n",
    "load_predictions[:10], predictions[:10]"
   ]
  },
  {
   "cell_type": "code",
   "execution_count": null,
   "id": "87fe3833-1e72-4a38-bdf4-0cea4ccc05cf",
   "metadata": {},
   "outputs": [],
   "source": []
  }
 ],
 "metadata": {
  "kernelspec": {
   "display_name": "Python 3 (ipykernel)",
   "language": "python",
   "name": "python3"
  },
  "language_info": {
   "codemirror_mode": {
    "name": "ipython",
    "version": 3
   },
   "file_extension": ".py",
   "mimetype": "text/x-python",
   "name": "python",
   "nbconvert_exporter": "python",
   "pygments_lexer": "ipython3",
   "version": "3.11.7"
  }
 },
 "nbformat": 4,
 "nbformat_minor": 5
}
