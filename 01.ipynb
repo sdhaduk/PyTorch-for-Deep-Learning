{
 "cells": [
  {
   "cell_type": "markdown",
   "id": "3cf3680c-5048-4dfa-9d4e-e221eb98a810",
   "metadata": {},
   "source": [
    "# PyTorch Workflow\n",
    "1. data (prepare and load)\n",
    "2. build model\n",
    "3. training the model\n",
    "4. making predictions and evaluating the model\n",
    "5. saving and loading a model\n",
    "6. putting it all together"
   ]
  },
  {
   "cell_type": "code",
   "execution_count": 688,
   "id": "b83867f8-e955-4ace-b51e-67b7bc40e41d",
   "metadata": {},
   "outputs": [
    {
     "data": {
      "text/plain": [
       "'2.3.1'"
      ]
     },
     "execution_count": 688,
     "metadata": {},
     "output_type": "execute_result"
    }
   ],
   "source": [
    "import torch\n",
    "from torch import nn # nn contains all of PyTorch's building blocks for neural networks\n",
    "import matplotlib.pyplot as plt\n",
    "    \n",
    "# Check PyTorch version\n",
    "torch.__version__"
   ]
  },
  {
   "cell_type": "markdown",
   "id": "92e480a7-b0fc-4e34-881f-e051f7a10e98",
   "metadata": {},
   "source": [
    "## 1. Data (preparing and loading)\n",
    "* structured text\n",
    "* images\n",
    "* audio\n",
    "* unstructured text\n",
    "* DNA\n",
    "* videos\n",
    "* etc"
   ]
  },
  {
   "cell_type": "code",
   "execution_count": 690,
   "id": "df3dea1c-19a5-4e55-8edb-9102ac8ff6c2",
   "metadata": {},
   "outputs": [
    {
     "data": {
      "text/plain": [
       "(tensor([[0.0000],\n",
       "         [0.0200],\n",
       "         [0.0400],\n",
       "         [0.0600],\n",
       "         [0.0800],\n",
       "         [0.1000],\n",
       "         [0.1200],\n",
       "         [0.1400],\n",
       "         [0.1600],\n",
       "         [0.1800]]),\n",
       " tensor([[0.3000],\n",
       "         [0.3140],\n",
       "         [0.3280],\n",
       "         [0.3420],\n",
       "         [0.3560],\n",
       "         [0.3700],\n",
       "         [0.3840],\n",
       "         [0.3980],\n",
       "         [0.4120],\n",
       "         [0.4260]]))"
      ]
     },
     "execution_count": 690,
     "metadata": {},
     "output_type": "execute_result"
    }
   ],
   "source": [
    "# Create known parameters\n",
    "weight = 0.7 \n",
    "bias = 0.3\n",
    "\n",
    "# Create\n",
    "X = torch.arange(0, 1, 0.02).unsqueeze(dim=1)\n",
    "y = weight * X + bias\n",
    "X[:10], y[:10]"
   ]
  },
  {
   "cell_type": "markdown",
   "id": "a4c2ec6a-c1b1-4202-8c36-686ff2ad8825",
   "metadata": {},
   "source": [
    "### Splitting data into training set, validation set (sometimes), and testing set"
   ]
  },
  {
   "cell_type": "code",
   "execution_count": 692,
   "id": "ec57a81b-3578-41e2-95d2-32b55035c06f",
   "metadata": {},
   "outputs": [
    {
     "data": {
      "text/plain": [
       "(40, 40, 10, 10)"
      ]
     },
     "execution_count": 692,
     "metadata": {},
     "output_type": "execute_result"
    }
   ],
   "source": [
    "# Create traing/test split\n",
    "train_split = int(0.8 * len(X))\n",
    "X_train, y_train = X[:train_split], y[:train_split]\n",
    "X_test, y_test = X[train_split:], y[train_split:]\n",
    "\n",
    "len(X_train), len(y_train), len(X_test), len(y_test)"
   ]
  },
  {
   "cell_type": "code",
   "execution_count": 60,
   "id": "e721fc77-096c-41aa-836c-7f53dc4d8dfd",
   "metadata": {},
   "outputs": [
    {
     "data": {
      "image/png": "[encoded data removed]",
      "text/plain": [
       "<Figure size 1000x700 with 1 Axes>"
      ]
     },
     "metadata": {},
     "output_type": "display_data"
    }
   ],
   "source": [
    "def plot_predictions(train_data=X_train,\n",
    "                    train_labels=y_train,\n",
    "                    test_data=X_test,\n",
    "                    test_labels=y_test,\n",
    "                    predictions=None):\n",
    "    \"\"\"\n",
    "    Plots training data, test data, and compares predictions\n",
    "    \"\"\"\n",
    "    plt.figure(figsize=(10, 7))\n",
    "\n",
    "    #Plot training data in blue\n",
    "    plt.scatter(train_data, train_labels, c=\"b\", s=4, label=\"Training data\")\n",
    "\n",
    "    #Plot test data in green\n",
    "    plt.scatter(test_data, test_labels, c=\"g\", s=4, label=\"Testing data\")\n",
    "\n",
    "    # Are there predictions?\n",
    "    if predictions != None:\n",
    "        # Plot predictions\n",
    "        plt.scatter(test_data, predictions, c=\"r\", s=4, label=\"Predictions\")\n",
    "\n",
    "    # Show the legend\n",
    "    plt.legend(prop={\"size\": 14})\n",
    "\n",
    "plot_predictions()"
   ]
  },
  {
   "cell_type": "markdown",
   "id": "5b49340a-26b6-417b-92b7-f8dc48b17308",
   "metadata": {},
   "source": [
    "## 2. Build Model\n",
    "What our model does:\n",
    "* Start with random values for parameters (weight and bias)\n",
    "* Runs gradient descent to optimize parameters"
   ]
  },
  {
   "cell_type": "code",
   "execution_count": 695,
   "id": "b0d567d5-9219-41c5-8d37-11019eacf9d0",
   "metadata": {},
   "outputs": [],
   "source": [
    "# Create linear regression model class\n",
    "class LinearRegressionModel(nn.Module): # <- almost everything in PyTorch inherits from nn.Module\n",
    "    def __init__(self):\n",
    "        super().__init__()\n",
    "        # initialize model parameters (could be layers, single parameters, or hardcoded values/functions\n",
    "        # requires_ grad = True; means that PyTorch will track the gradients of this specific parameter for use with torch.autograd and gradient descent\n",
    "        self.weights = nn.Parameter(torch.randn(1, requires_grad = True, dtype=torch.float32))\n",
    "        self.bias = nn.Parameter(torch.randn(1, requires_grad = True, dtype=torch.float32))\n",
    "\n",
    "    # defines the computation in the model\n",
    "    # any subclass of nn.Module needs to override forward()\n",
    "    def forward(self, x: torch.Tensor) -> torch.Tensor: # <- \"x\" must be a torch.Tensor and forward must return a torch.Tensor\n",
    "        return self.weights * x + self.bias # linear regression formula"
   ]
  },
  {
   "cell_type": "markdown",
   "id": "75d15e34-9c72-4a09-96bb-8f868d7699bb",
   "metadata": {},
   "source": [
    "### PyTorch model building essentials \n",
    "* torch.nn - contains all of the building blocks for computational graphs (a neural network can be considered a computational graph)\n",
    "* torch.nn.Parameter - what parameters should our model try and learn, often a PyTorch layer from torch.nn will set these for us\n",
    "* torch.nn.Module - base class for all neural network modules, if you subclass it you should override forward()\n",
    "* torch.optim - this is where the optimizers in PyTorch live, they will help with gradient descent\n",
    "* def forward() - All nn.Module sublclasses require you to overrwrite forward. This method defines what happens in forward computation"
   ]
  },
  {
   "cell_type": "markdown",
   "id": "91a00927-f44d-4826-897d-814a03044bbd",
   "metadata": {},
   "source": [
    " ### Checking contents of our PyTorch model\n",
    " check model using - .parameters()"
   ]
  },
  {
   "cell_type": "code",
   "execution_count": 748,
   "id": "948b8029-e561-4bee-af54-6030bad50b0c",
   "metadata": {},
   "outputs": [
    {
     "data": {
      "text/plain": [
       "[Parameter containing:\n",
       " tensor([0.3367], requires_grad=True),\n",
       " Parameter containing:\n",
       " tensor([0.1288], requires_grad=True)]"
      ]
     },
     "execution_count": 748,
     "metadata": {},
     "output_type": "execute_result"
    }
   ],
   "source": [
    "# Create random seed\n",
    "torch.manual_seed(42)\n",
    "\n",
    "# Create an instance of the model\n",
    "model_0 = LinearRegressionModel()\n",
    "\n",
    "# Check parameters\n",
    "list(model_0.parameters())"
   ]
  },
  {
   "cell_type": "code",
   "execution_count": 732,
   "id": "262bde08-115b-4002-bf3e-2fedc1f9c56e",
   "metadata": {},
   "outputs": [
    {
     "data": {
      "text/plain": [
       "OrderedDict([('weights', tensor([0.3367])), ('bias', tensor([0.1288]))])"
      ]
     },
     "execution_count": 732,
     "metadata": {},
     "output_type": "execute_result"
    }
   ],
   "source": [
    "# List named parameters\n",
    "model_0.state_dict()"
   ]
  },
  {
   "cell_type": "markdown",
   "id": "9d39d910-25c9-46fa-a323-ad80e2a927a3",
   "metadata": {},
   "source": [
    "### Making predictions using `torch.inference_mode()`\n",
    "* when we pass data through our model, it will run it through the forward() method"
   ]
  },
  {
   "cell_type": "code",
   "execution_count": 734,
   "id": "51230091-adfc-4372-b4b1-073e5491616c",
   "metadata": {},
   "outputs": [
    {
     "data": {
      "text/plain": [
       "tensor([[0.3982],\n",
       "        [0.4049],\n",
       "        [0.4116],\n",
       "        [0.4184],\n",
       "        [0.4251],\n",
       "        [0.4318],\n",
       "        [0.4386],\n",
       "        [0.4453],\n",
       "        [0.4520],\n",
       "        [0.4588]])"
      ]
     },
     "execution_count": 734,
     "metadata": {},
     "output_type": "execute_result"
    }
   ],
   "source": [
    "with torch.inference_mode():\n",
    "    y_preds = model_0(X_test)\n",
    "    \n",
    "y_preds"
   ]
  },
  {
   "cell_type": "code",
   "execution_count": 736,
   "id": "10036044-c56d-40ac-9723-42af54f8bcf5",
   "metadata": {},
   "outputs": [
    {
     "data": {
      "image/png": "[encoded data removed]",
      "text/plain": [
       "<Figure size 1000x700 with 1 Axes>"
      ]
     },
     "metadata": {},
     "output_type": "display_data"
    }
   ],
   "source": [
    "plot_predictions(predictions=y_preds)"
   ]
  },
  {
   "cell_type": "markdown",
   "id": "8bc38d3d-4857-4a73-a8f3-7b651a1405fb",
   "metadata": {},
   "source": [
    "## 3. Train the model\n",
    "Change our parameters to better fit the data\n",
    "\n",
    "Things we need to train:\n",
    "* **Loss Function:** A function to measure how off your model's predictions are compared to the correct labels - lower loss function values are better\n",
    "* **Optimizer:** Takes into account the loss value of a model and adjusts the models parameters to decrease the value of the loss function even further\n",
    "\n",
    "And specifically for PyTorch, we need:\n",
    "* A training loop\n",
    "* A testing loop"
   ]
  },
  {
   "cell_type": "code",
   "execution_count": 750,
   "id": "b73d7594-9a71-440e-b10e-f90e588fa80e",
   "metadata": {},
   "outputs": [],
   "source": [
    "# Setup a loss function\n",
    "loss_fn = nn.L1Loss()\n",
    "\n",
    "# Setup an optimizer (stochastic gradient descent)\n",
    "optimizer = torch.optim.SGD(params = model_0.parameters(),\n",
    "                            lr = 0.001) #lr = learning rate"
   ]
  },
  {
   "cell_type": "markdown",
   "id": "8884e925-2926-4516-81e1-c2e5974e4407",
   "metadata": {},
   "source": [
    "### Building a training and testing loop in PyTorch \n",
    "\n",
    "Things we need in a training loop:\n",
    "0. Loop through the data and do... {\n",
    "1. Forward pass (this involves data moving through our model's `forward()` functions) to make predictions on data - aka \"forward propogation\"\n",
    "2. Calculate the loss (compare forward pass predictions to ground truth labels)\n",
    "3. Optimizer zero grad\n",
    "4. Loss backward - move backwards through the network to calculate the gradients of each of the parameters of our model with respect to the loss (**backpropagation**)\n",
    "5. Optimizer step - use the optimizer to adjust the model's parameters to try and reduce the value of loss (improve the loss)\n",
    "}"
   ]
  },
  {
   "cell_type": "code",
   "execution_count": 740,
   "id": "281869d2-ce52-4dad-8456-1982144c13d2",
   "metadata": {},
   "outputs": [
    {
     "data": {
      "text/plain": [
       "OrderedDict([('weights', tensor([0.3367])), ('bias', tensor([0.1288]))])"
      ]
     },
     "execution_count": 740,
     "metadata": {},
     "output_type": "execute_result"
    }
   ],
   "source": [
    "model_0.state_dict()"
   ]
  },
  {
   "cell_type": "code",
   "execution_count": 752,
   "id": "f84968f1-be62-4c0f-8ab4-d138f90ac786",
   "metadata": {
    "scrolled": true
   },
   "outputs": [
    {
     "name": "stdout",
     "output_type": "stream",
     "text": [
      "Epoch: 0 | Loss: 0.31288138031959534 | Test loss: 0.4931890368461609\n",
      "OrderedDict([('weights', tensor([0.3371])), ('bias', tensor([0.1298]))])\n",
      "\n",
      "\n",
      "Epoch: 1000 | Loss: 0.02435957081615925 | Test loss: 0.05690721794962883\n",
      "OrderedDict([('weights', tensor([0.5790])), ('bias', tensor([0.3508]))])\n",
      "\n",
      "\n",
      "Epoch: 2000 | Loss: 0.0004444979131221771 | Test loss: 0.0005780101055279374\n",
      "OrderedDict([('weights', tensor([0.6997])), ('bias', tensor([0.3008]))])\n",
      "\n",
      "\n",
      "Epoch: 3000 | Loss: 0.0004444979131221771 | Test loss: 0.0005780101055279374\n",
      "OrderedDict([('weights', tensor([0.6997])), ('bias', tensor([0.3008]))])\n",
      "\n",
      "\n",
      "Epoch: 4000 | Loss: 0.0004444979131221771 | Test loss: 0.0005780101055279374\n",
      "OrderedDict([('weights', tensor([0.6997])), ('bias', tensor([0.3008]))])\n",
      "\n",
      "\n",
      "Epoch: 5000 | Loss: 0.0004444979131221771 | Test loss: 0.0005780101055279374\n",
      "OrderedDict([('weights', tensor([0.6997])), ('bias', tensor([0.3008]))])\n",
      "\n",
      "\n",
      "Epoch: 6000 | Loss: 0.0004444979131221771 | Test loss: 0.0005780101055279374\n",
      "OrderedDict([('weights', tensor([0.6997])), ('bias', tensor([0.3008]))])\n",
      "\n",
      "\n",
      "Epoch: 7000 | Loss: 0.0004444979131221771 | Test loss: 0.0005780101055279374\n",
      "OrderedDict([('weights', tensor([0.6997])), ('bias', tensor([0.3008]))])\n",
      "\n",
      "\n",
      "Epoch: 8000 | Loss: 0.0004444979131221771 | Test loss: 0.0005780101055279374\n",
      "OrderedDict([('weights', tensor([0.6997])), ('bias', tensor([0.3008]))])\n",
      "\n",
      "\n",
      "Epoch: 9000 | Loss: 0.0004444979131221771 | Test loss: 0.0005780101055279374\n",
      "OrderedDict([('weights', tensor([0.6997])), ('bias', tensor([0.3008]))])\n",
      "\n",
      "\n"
     ]
    }
   ],
   "source": [
    "# an epoch is one loop through the data\n",
    "epochs = 10000\n",
    "\n",
    "# Track different values\n",
    "epoch_count = []\n",
    "loss_values = []\n",
    "test_loss_values = []\n",
    "\n",
    "# 0.\n",
    "for epoch in range(epochs):\n",
    "    # Set the model to training mode - sets all parameters that require gradients to require gradients\n",
    "    model_0.train()\n",
    "    \n",
    "    # 1. Forward pass\n",
    "    y_pred = model_0(X_train)\n",
    "    \n",
    "    # 2. Calculate the loss\n",
    "    loss = loss_fn(y_pred, y_train)\n",
    "\n",
    "    # 3. Optimizer zero grad\n",
    "    optimizer.zero_grad()\n",
    "\n",
    "    # 4. Perform backprop on the loss with respect to parameters of the model\n",
    "    loss.backward()\n",
    "\n",
    "    # 5. Step the optimizer (perform gradient descent)\n",
    "    optimizer.step()\n",
    "\n",
    "    ### Testing\n",
    "    model_0.eval() # turns off different settings in the model not needed for evaluation/testing\n",
    "    with torch.inference_mode():\n",
    "        # 1.\n",
    "        test_pred = model_0(X_test)\n",
    "\n",
    "        # 2.\n",
    "        test_loss = loss_fn(test_pred, y_test)\n",
    "\n",
    "    if epoch % 1000 == 0:\n",
    "        # track values\n",
    "        epoch_count.append(epoch)\n",
    "        loss_values.append(loss)\n",
    "        test_loss_values.append(test_loss)\n",
    "        \n",
    "        # print out whats happening\n",
    "        print(f\"Epoch: {epoch} | Loss: {loss} | Test loss: {test_loss}\") \n",
    "        print(model_0.state_dict())\n",
    "        print(\"\\n\")"
   ]
  },
  {
   "cell_type": "code",
   "execution_count": 766,
   "id": "77a1483b-3f18-412a-b285-2ec9f3dc49eb",
   "metadata": {},
   "outputs": [
    {
     "data": {
      "image/png": "[encoded data removed]",
      "text/plain": [
       "<Figure size 640x480 with 1 Axes>"
      ]
     },
     "metadata": {},
     "output_type": "display_data"
    }
   ],
   "source": [
    "import numpy as np\n",
    "\n",
    "plt.plot(epoch_count, np.array(torch.tensor(loss_values).numpy()), label=\"Training Loss\")\n",
    "plt.plot(epoch_count, np.array(torch.tensor(test_loss_values).numpy()), label=\"Testing Loss\")\n",
    "plt.title(\"Training and test loss curves\")\n",
    "plt.ylabel(\"Loss\")\n",
    "plt.xlabel(\"Epochs\")\n",
    "plt.legend();"
   ]
  },
  {
   "cell_type": "code",
   "execution_count": 754,
   "id": "cf74bc8d-9151-4e4a-807e-fc3136026c91",
   "metadata": {},
   "outputs": [
    {
     "data": {
      "image/png": "[encoded data removed]",
      "text/plain": [
       "<Figure size 1000x700 with 1 Axes>"
      ]
     },
     "metadata": {},
     "output_type": "display_data"
    }
   ],
   "source": [
    "plot_predictions(predictions=test_pred)"
   ]
  },
  {
   "cell_type": "markdown",
   "id": "5bc9800e-fa32-455c-b90b-33046b9b9eb4",
   "metadata": {},
   "source": [
    "## Saving a model in PyTorch\n",
    "\n",
    "There are three main methods to saving and loading models in PyTorch\n",
    "1. `torch.save()` - allows you to save a PyTorch object in Python's pickle format\n",
    "2. `torch.load()` - allows you to load a saved PyTorch object\n",
    "3. `torch.nn.Module.load_state_dict()` - this allows you to load a models saved state dictionary"
   ]
  },
  {
   "cell_type": "code",
   "execution_count": 771,
   "id": "f905cc94-9083-4195-ae2b-2986104f2ce4",
   "metadata": {},
   "outputs": [
    {
     "name": "stdout",
     "output_type": "stream",
     "text": [
      "Saving model to: models/01_pytorch_workflow_model_0.pt\n"
     ]
    }
   ],
   "source": [
    "# Saving PyTorch Model\n",
    "from pathlib import Path\n",
    "\n",
    "# 1. Create models directory\n",
    "MODEL_PATH = Path(\"models\")\n",
    "MODEL_PATH.mkdir(parents=True, exist_ok=True)\n",
    "\n",
    "# 2. Create model save path\n",
    "MODEL_NAME = \"01_pytorch_workflow_model_0.pt\"\n",
    "MODEL_SAVE_PATH = MODEL_PATH / MODEL_NAME\n",
    "\n",
    "# 3. Save the model state dict\n",
    "print(f\"Saving model to: {MODEL_SAVE_PATH}\")\n",
    "torch.save(obj=model_0.state_dict(),\n",
    "           f=MODEL_SAVE_PATH)"
   ]
  },
  {
   "cell_type": "markdown",
   "id": "151e365c-54b4-4c28-b346-77562f043f09",
   "metadata": {},
   "source": [
    "## Loading a PyTorch Model\n",
    "Since we saved the models `state_dict()` rather than the entire model, we'll create a new instance of our model class and load the saved `state_dict()` into that."
   ]
  },
  {
   "cell_type": "code",
   "execution_count": 779,
   "id": "68bb2a16-603f-44b8-81f0-87fb908ba4d9",
   "metadata": {},
   "outputs": [
    {
     "data": {
      "text/plain": [
       "LinearRegressionModel()"
      ]
     },
     "execution_count": 779,
     "metadata": {},
     "output_type": "execute_result"
    }
   ],
   "source": [
    "# Loading a saved state_dict()\n",
    "load_model = LinearRegressionModel()\n",
    "load_model.load_state_dict(torch.load(MODEL_SAVE_PATH))\n",
    "load_model.eval()"
   ]
  },
  {
   "cell_type": "code",
   "execution_count": 781,
   "id": "b6a7fda6-1b74-41f8-b1e3-31088c56fb5c",
   "metadata": {},
   "outputs": [
    {
     "data": {
      "text/plain": [
       "OrderedDict([('weights', tensor([0.6994])), ('bias', tensor([0.2998]))])"
      ]
     },
     "execution_count": 781,
     "metadata": {},
     "output_type": "execute_result"
    }
   ],
   "source": [
    "load_model.state_dict()"
   ]
  },
  {
   "cell_type": "markdown",
   "id": "462f9dd2-8cd5-487f-a20e-fb8c617be025",
   "metadata": {},
   "source": [
    "# Putting it all together"
   ]
  },
  {
   "cell_type": "code",
   "execution_count": 54,
   "id": "a6e03f90-d4d1-4a59-9067-192def086361",
   "metadata": {},
   "outputs": [],
   "source": [
    "import torch\n",
    "from torch import nn\n",
    "import matplotlib.pyplot as plt"
   ]
  },
  {
   "cell_type": "code",
   "execution_count": 56,
   "id": "52563c26-43d0-48ad-bd93-52288be60dc4",
   "metadata": {},
   "outputs": [
    {
     "data": {
      "text/plain": [
       "(tensor([[0.0000],\n",
       "         [0.0200],\n",
       "         [0.0400],\n",
       "         [0.0600],\n",
       "         [0.0800],\n",
       "         [0.1000],\n",
       "         [0.1200],\n",
       "         [0.1400],\n",
       "         [0.1600],\n",
       "         [0.1800]]),\n",
       " tensor([[0.3000],\n",
       "         [0.3140],\n",
       "         [0.3280],\n",
       "         [0.3420],\n",
       "         [0.3560],\n",
       "         [0.3700],\n",
       "         [0.3840],\n",
       "         [0.3980],\n",
       "         [0.4120],\n",
       "         [0.4260]]))"
      ]
     },
     "execution_count": 56,
     "metadata": {},
     "output_type": "execute_result"
    }
   ],
   "source": [
    "weight = 0.7\n",
    "bias = 0.3\n",
    "\n",
    "X = torch.arange(0, 1, 0.02).unsqueeze(dim=1)\n",
    "y = weight * X + bias\n",
    "X[:10], y[:10]"
   ]
  },
  {
   "cell_type": "code",
   "execution_count": 58,
   "id": "eff2467c-f50d-4a25-8f9e-030d7ede0e85",
   "metadata": {},
   "outputs": [
    {
     "data": {
      "text/plain": [
       "(10, 10, 40, 40)"
      ]
     },
     "execution_count": 58,
     "metadata": {},
     "output_type": "execute_result"
    }
   ],
   "source": [
    "train_split = int(0.8 * len(X))\n",
    "X_train, y_train = X[:train_split], y[:train_split]\n",
    "X_test, y_test = X[train_split:], y[train_split:]\n",
    "len(X_test), len(y_test), len(X_train), len(y_train)"
   ]
  },
  {
   "cell_type": "code",
   "execution_count": 62,
   "id": "ff285463-aeb0-4e60-b828-304420505a01",
   "metadata": {},
   "outputs": [
    {
     "data": {
      "text/plain": [
       "(LinearRegressionModelV2(\n",
       "   (linear_layer): Linear(in_features=1, out_features=1, bias=True)\n",
       " ),\n",
       " OrderedDict([('linear_layer.weight', tensor([[0.7645]])),\n",
       "              ('linear_layer.bias', tensor([0.8300]))]))"
      ]
     },
     "execution_count": 62,
     "metadata": {},
     "output_type": "execute_result"
    }
   ],
   "source": [
    "class LinearRegressionModelV2(nn.Module):\n",
    "    def __init__(self):\n",
    "        super().__init__()\n",
    "        # Use nn.Linear() for creating the model parameters\n",
    "        self.linear_layer = nn.Linear(in_features=1, # inputting 1 feature to output 1 feature\n",
    "                                     out_features=1)\n",
    "    def forward(self, x: torch.Tensor) -> torch.Tensor:\n",
    "        return self.linear_layer(x)\n",
    "\n",
    "torch.manual_seed(42)\n",
    "model_2 = LinearRegressionModelV2()\n",
    "model_2, model_2.state_dict()"
   ]
  },
  {
   "cell_type": "code",
   "execution_count": 80,
   "id": "ebc8ab27-5fb2-40c5-8d09-c504e54f693e",
   "metadata": {},
   "outputs": [
    {
     "data": {
      "text/plain": [
       "device(type='mps', index=0)"
      ]
     },
     "execution_count": 80,
     "metadata": {},
     "output_type": "execute_result"
    }
   ],
   "source": [
    "# Check the model current device\n",
    "next(model_2.parameters()).device"
   ]
  },
  {
   "cell_type": "code",
   "execution_count": 84,
   "id": "ddcb0494-0c81-47f7-9cf1-a2c755ccda7c",
   "metadata": {},
   "outputs": [
    {
     "data": {
      "text/plain": [
       "device(type='mps', index=0)"
      ]
     },
     "execution_count": 84,
     "metadata": {},
     "output_type": "execute_result"
    }
   ],
   "source": [
    "# Set the model to use the target device\n",
    "model_2.to(\"mps\")\n",
    "next(model_2.parameters()).device"
   ]
  },
  {
   "cell_type": "code",
   "execution_count": 88,
   "id": "5d6ba830-3366-4938-b719-7b8de4766384",
   "metadata": {},
   "outputs": [],
   "source": [
    "# Setup loss function\n",
    "loss_fn = nn.L1Loss()\n",
    "optimizer = torch.optim.SGD(params=model_2.parameters(), lr=0.01)"
   ]
  },
  {
   "cell_type": "code",
   "execution_count": 96,
   "id": "e16567e2-b539-4c84-ba29-2712d958d6f5",
   "metadata": {},
   "outputs": [
    {
     "name": "stdout",
     "output_type": "stream",
     "text": [
      "Epoch: 0 | Train Loss: 0.5436569452285767 | Test Loss: 0.560505211353302\n",
      "Epoch: 10 | Train Loss: 0.42844706773757935 | Test Loss: 0.42579540610313416\n",
      "Epoch: 20 | Train Loss: 0.31323719024658203 | Test Loss: 0.2910855710506439\n",
      "Epoch: 30 | Train Loss: 0.1980273276567459 | Test Loss: 0.15637575089931488\n",
      "Epoch: 40 | Train Loss: 0.0828174576163292 | Test Loss: 0.021665919572114944\n",
      "Epoch: 50 | Train Loss: 0.023356426507234573 | Test Loss: 0.048834484070539474\n",
      "Epoch: 60 | Train Loss: 0.019609851762652397 | Test Loss: 0.04538799077272415\n",
      "Epoch: 70 | Train Loss: 0.01618141308426857 | Test Loss: 0.03711546212434769\n",
      "Epoch: 80 | Train Loss: 0.012742981314659119 | Test Loss: 0.028842901811003685\n",
      "Epoch: 90 | Train Loss: 0.009307924658060074 | Test Loss: 0.02125726453959942\n",
      "Epoch: 100 | Train Loss: 0.0058781662955880165 | Test Loss: 0.012984687462449074\n",
      "Epoch: 110 | Train Loss: 0.002439358038827777 | Test Loss: 0.004712158348411322\n",
      "Epoch: 120 | Train Loss: 0.010256483219563961 | Test Loss: 0.00033082367735914886\n",
      "Epoch: 130 | Train Loss: 0.010256483219563961 | Test Loss: 0.00033082367735914886\n",
      "Epoch: 140 | Train Loss: 0.010256483219563961 | Test Loss: 0.00033082367735914886\n",
      "Epoch: 150 | Train Loss: 0.010256483219563961 | Test Loss: 0.00033082367735914886\n",
      "Epoch: 160 | Train Loss: 0.010256483219563961 | Test Loss: 0.00033082367735914886\n",
      "Epoch: 170 | Train Loss: 0.010256483219563961 | Test Loss: 0.00033082367735914886\n",
      "Epoch: 180 | Train Loss: 0.010256483219563961 | Test Loss: 0.00033082367735914886\n",
      "Epoch: 190 | Train Loss: 0.010256483219563961 | Test Loss: 0.00033082367735914886\n"
     ]
    }
   ],
   "source": [
    "# Training Loop\n",
    "torch.manual_seed(42)\n",
    "\n",
    "epochs = 200\n",
    "\n",
    "# Put data on the target device (device agnostic code for data)\n",
    "X_train = X_train.to(\"mps\")\n",
    "y_train = y_train.to(\"mps\")\n",
    "X_test = X_test.to(\"mps\")\n",
    "y_test = y_test.to(\"mps\")\n",
    "\n",
    "for epoch in range(epochs):\n",
    "    model_2.train()\n",
    "    y_train_preds = model_2(X_train)\n",
    "    train_loss = loss_fn(y_train_preds, y_train)\n",
    "    optimizer.zero_grad()\n",
    "    train_loss.backward()\n",
    "    optimizer.step()\n",
    "\n",
    "\n",
    "    if epoch % 10 == 0:\n",
    "        model_2.eval()\n",
    "        with torch.inference_mode():\n",
    "            y_test_pred = model_2(X_test)\n",
    "            test_loss = loss_fn(y_test_pred, y_test)\n",
    "\n",
    "        print(f\"Epoch: {epoch} | Train Loss: {train_loss} | Test Loss: {test_loss}\")"
   ]
  },
  {
   "cell_type": "code",
   "execution_count": 98,
   "id": "9161d9c6-73d9-4405-940c-f2b38d9c063b",
   "metadata": {},
   "outputs": [
    {
     "data": {
      "text/plain": [
       "OrderedDict([('linear_layer.weight', tensor([[0.6929]], device='mps:0')),\n",
       "             ('linear_layer.bias', tensor([0.2925], device='mps:0'))])"
      ]
     },
     "execution_count": 98,
     "metadata": {},
     "output_type": "execute_result"
    }
   ],
   "source": [
    "model_2.state_dict()"
   ]
  },
  {
   "cell_type": "code",
   "execution_count": 120,
   "id": "08003f15-e158-472a-971f-bed8bc2297c7",
   "metadata": {},
   "outputs": [
    {
     "data": {
      "text/plain": [
       "(tensor([[0.8468],\n",
       "         [0.8607],\n",
       "         [0.8746],\n",
       "         [0.8884],\n",
       "         [0.9023],\n",
       "         [0.9161],\n",
       "         [0.9300],\n",
       "         [0.9438],\n",
       "         [0.9577],\n",
       "         [0.9716]], device='mps:0'),\n",
       " tensor([[0.8600],\n",
       "         [0.8740],\n",
       "         [0.8880],\n",
       "         [0.9020],\n",
       "         [0.9160],\n",
       "         [0.9300],\n",
       "         [0.9440],\n",
       "         [0.9580],\n",
       "         [0.9720],\n",
       "         [0.9860]], device='mps:0'))"
      ]
     },
     "execution_count": 120,
     "metadata": {},
     "output_type": "execute_result"
    }
   ],
   "source": [
    "model_2.eval()\n",
    "\n",
    "with torch.inference_mode():\n",
    "    y_preds = model_2(X_test)\n",
    "y_preds, y_test"
   ]
  },
  {
   "cell_type": "code",
   "execution_count": 122,
   "id": "0a2d0730-cda8-4a75-9b36-fca279b0c111",
   "metadata": {
    "scrolled": true
   },
   "outputs": [
    {
     "data": {
      "image/png": "[encoded data removed]",
      "text/plain": [
       "<Figure size 1000x700 with 1 Axes>"
      ]
     },
     "metadata": {},
     "output_type": "display_data"
    }
   ],
   "source": [
    "# Plot predictions (move tensor to cpu to make it work with matplotlib)\n",
    "plot_predictions(predictions=y_preds.cpu())"
   ]
  }
 ],
 "metadata": {
  "kernelspec": {
   "display_name": "Python 3 (ipykernel)",
   "language": "python",
   "name": "python3"
  },
  "language_info": {
   "codemirror_mode": {
    "name": "ipython",
    "version": 3
   },
   "file_extension": ".py",
   "mimetype": "text/x-python",
   "name": "python",
   "nbconvert_exporter": "python",
   "pygments_lexer": "ipython3",
   "version": "3.11.7"
  }
 },
 "nbformat": 4,
 "nbformat_minor": 5
}
